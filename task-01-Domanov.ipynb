{
 "cells": [
  {
   "cell_type": "code",
   "execution_count": 1,
   "metadata": {},
   "outputs": [
    {
     "name": "stdout",
     "output_type": "stream",
     "text": [
      "Массив до значения,задаваемая вами [0 1 2 3 4]\n"
     ]
    }
   ],
   "source": [
    "#1)\n",
    "#----- YOUR CODE HERE -----\n",
    "import numpy as np\n",
    "count = int(input())\n",
    "array = np.arange(count)\n",
    "#--------------------------\n",
    "print(\"Массив до значения,задаваемая вами\",array)\n"
   ]
  },
  {
   "cell_type": "code",
   "execution_count": 2,
   "metadata": {},
   "outputs": [
    {
     "name": "stdout",
     "output_type": "stream",
     "text": [
      "Массив из 0:\n",
      " [0 0 0 0 0]\n",
      "Массив из 1:\n",
      " [1 1 1 1 1 1 1 1 1 1]\n"
     ]
    }
   ],
   "source": [
    "#2)\n",
    "#----- YOUR CODE HERE -----\n",
    "import numpy as np\n",
    "array_zero = np.array([0]*5)\n",
    "array_one = np.array([1]*10)\n",
    "#--------------------------\n",
    "print(\"Массив из 0:\\n\",array_zero)\n",
    "print(\"Массив из 1:\\n\",array_one)"
   ]
  },
  {
   "cell_type": "code",
   "execution_count": 3,
   "metadata": {},
   "outputs": [
    {
     "name": "stdout",
     "output_type": "stream",
     "text": [
      "2D массив где по диагонали присвоено значение Pi:\n",
      " [[3.14159265 0.         0.         0.         0.        ]\n",
      " [0.         3.14159265 0.         0.         0.        ]\n",
      " [0.         0.         3.14159265 0.         0.        ]\n",
      " [0.         0.         0.         3.14159265 0.        ]\n",
      " [0.         0.         0.         0.         3.14159265]]\n"
     ]
    }
   ],
   "source": [
    "#3)\n",
    "#----- YOUR CODE HERE -----\n",
    "import numpy as np\n",
    "count = int(input())\n",
    "#--------------------------\n",
    "print(\"2D массив где по диагонали присвоено значение Pi:\\n\",np.diag([np.pi]*count))"
   ]
  },
  {
   "cell_type": "code",
   "execution_count": 6,
   "metadata": {},
   "outputs": [
    {
     "name": "stdout",
     "output_type": "stream",
     "text": [
      "2D массив ,заполненный значением FALSE:\n",
      " [[False False False False False]\n",
      " [False False False False False]\n",
      " [False False False False False]\n",
      " [False False False False False]\n",
      " [False False False False False]] \n",
      "Тип переменной:\n"
     ]
    },
    {
     "data": {
      "text/plain": [
       "numpy.bool_"
      ]
     },
     "execution_count": 6,
     "metadata": {},
     "output_type": "execute_result"
    }
   ],
   "source": [
    "#4)\n",
    "#----- YOUR CODE HERE -----\n",
    "import numpy as np\n",
    "count = int(input())\n",
    "matrix = np.full((count,count),False)\n",
    "#--------------------------\n",
    "print(\"2D массив ,заполненный значением FALSE:\\n\",matrix,\"\\nТип переменной:\",)\n",
    "type(matrix[0,0])"
   ]
  },
  {
   "cell_type": "code",
   "execution_count": 5,
   "metadata": {},
   "outputs": [
    {
     "name": "stdout",
     "output_type": "stream",
     "text": [
      "Исходный массив:\n",
      " [ 0  1  2  3  4  5  6  7  8  9 10 11 12 13 14 15]\n",
      "Новый массив:\n",
      " [42  1 42  3 42  5 42  7 42  9 42 11 42 13 42 15]\n"
     ]
    }
   ],
   "source": [
    "#5)\n",
    "#----- YOUR CODE HERE -----\n",
    "import numpy as np\n",
    "array = np.arange(16)\n",
    "new_array = np.copy(array)\n",
    "for i in range(16):\n",
    "    if(new_array[i] % 2 == 0):\n",
    "        new_array[i] = 42\n",
    "#--------------------------\n",
    "# ИСХОДНЫЙ МАССИВ\n",
    "print(\"Исходный массив:\\n\",array)\n",
    "# НОВЫЙ МАССИВ\n",
    "print(\"Новый массив:\\n\",new_array)"
   ]
  },
  {
   "cell_type": "code",
   "execution_count": 7,
   "metadata": {},
   "outputs": [
    {
     "name": "stdout",
     "output_type": "stream",
     "text": [
      "Исходный массив:\n",
      " [0 0 0 1 0 0 1 0 1 0 1 1 0 0 1]\n",
      "Индекды где находяться 1:\n",
      " [3, 6, 8, 10, 11, 14]\n",
      "Количество 1:\n",
      " 6\n"
     ]
    }
   ],
   "source": [
    "#6) \n",
    "#----- YOUR CODE HERE -----\n",
    "import numpy as np\n",
    "count_one = 0\n",
    "index = 0\n",
    "array_index=[]\n",
    "array = np.random.randint(2 ,size=15)\n",
    "#array = np.array([1]*15)\n",
    "for i in range(15):\n",
    "    if(array[i] == 1):\n",
    "        count_one=count_one+1\n",
    "        array_index.append(i)\n",
    "#--------------------------\n",
    "# ИСХОДНЫЙ МАССИВ\n",
    "print(\"Исходный массив:\\n\",array)\n",
    "# ИНДЕКСЫ\n",
    "print(\"Индексы где находятся 1:\\n\",array_index)\n",
    "# КОЛИЧЕСТВО\n",
    "print(\"Количество 1:\\n\",count_one)"
   ]
  },
  {
   "cell_type": "code",
   "execution_count": 12,
   "metadata": {},
   "outputs": [
    {
     "name": "stdout",
     "output_type": "stream",
     "text": [
      "Размерность:  3\n",
      "Количество элементов вдоль каждой размерности: (2, 3, 4)\n",
      "Количество элементов в массиве: 24\n"
     ]
    }
   ],
   "source": [
    "#7) \n",
    "#----- YOUR CODE HERE -----\n",
    "import numpy as np\n",
    "x3 = np.random.random((2,3, 4))\n",
    "#--------------------------\n",
    "print(\"Размерность: \",x3.ndim)\n",
    "print(\"Количество элементов вдоль каждой размерности:\",x3.shape)\n",
    "print(\"Количество элементов в массиве:\",x3.size)"
   ]
  },
  {
   "cell_type": "code",
   "execution_count": 8,
   "metadata": {},
   "outputs": [
    {
     "name": "stdout",
     "output_type": "stream",
     "text": [
      "Исходный массив:\n",
      " [0 1 2 3 4 5 6 7 8]\n",
      "Новый массив:\n",
      " [[0 1 2]\n",
      " [3 4 5]\n",
      " [6 7 8]]\n"
     ]
    }
   ],
   "source": [
    "#8)\n",
    "#----- YOUR CODE HERE -----\n",
    "import numpy as np\n",
    "array = np.arange(9)\n",
    "new_array = np.copy(array).reshape(3,3) \n",
    "#--------------------------\n",
    "# ИСХОДНЫЙ МАССИВ\n",
    "print(\"Исходный массив:\\n\",array)\n",
    "# НОВЫЙ МАССИВ\n",
    "print(\"Новый массив:\\n\",new_array)\n",
    "\n"
   ]
  },
  {
   "cell_type": "code",
   "execution_count": 9,
   "metadata": {},
   "outputs": [
    {
     "name": "stdout",
     "output_type": "stream",
     "text": [
      "Введите строку,чтобы её суммировать:\n",
      "4\n",
      "Введите колонку,чтобы её суммировать:\n",
      "4\n",
      "2D массив:\n",
      " [[7 2 8 8]\n",
      " [2 7 2 9]\n",
      " [0 5 8 6]\n",
      " [7 2 8 3]]\n",
      "error\n",
      "None\n"
     ]
    }
   ],
   "source": [
    "#9)\n",
    "#----- YOUR CODE HERE -----\n",
    "import numpy as np\n",
    "def func(array,row,col):\n",
    "    if(row < np.size(array,0) or col<np.size(array,1)):\n",
    "        row_sum = (array[row]).sum()\n",
    "        col_sum = (array[0:(np.size(array, 0)),col]).sum()\n",
    "        list = tuple([row_sum,col_sum])\n",
    "        return list\n",
    "    else:\n",
    "        print(\"error\")\n",
    "array = np.random.randint(10, size=(4, 4))\n",
    "print(\"Введите строку,чтобы её суммировать:\")\n",
    "row = int(input())\n",
    "print(row)\n",
    "print(\"Введите колонку,чтобы её суммировать:\")\n",
    "col = int(input())\n",
    "print(col)\n",
    "#--------------------------\n",
    "print(\"2D массив:\\n\",array)\n",
    "print(func(array,row,col))"
   ]
  },
  {
   "cell_type": "code",
   "execution_count": 13,
   "metadata": {},
   "outputs": [
    {
     "name": "stdout",
     "output_type": "stream",
     "text": [
      "A:\n",
      " [[2 8 6 5]\n",
      " [8 5 5 9]\n",
      " [0 4 1 1]\n",
      " [8 6 2 5]\n",
      " [3 9 3 7]\n",
      " [0 1 5 4]\n",
      " [7 0 6 7]] \n",
      "\n",
      "B:\n",
      " [[3 6 8 0 7 7 2]\n",
      " [2 1 5 4 0 6 3]\n",
      " [3 4 2 5 2 6 2]\n",
      " [7 3 0 0 2 0 1]] \n",
      "\n",
      "Произведение матриц A*B:\n",
      " [[ 75  59  68  62  36  98  45]\n",
      " [112 100  99  45  84 116  50]\n",
      " [ 18  11  22  21   4  30  15]\n",
      " [ 77  77  98  34  70 104  43]\n",
      " [ 85  60  75  51  41  93  46]\n",
      " [ 45  33  15  29  18  36  17]\n",
      " [ 88  87  68  30  75  85  33]]\n"
     ]
    }
   ],
   "source": [
    "#10)\n",
    "#----- YOUR CODE HERE -----\n",
    "import numpy as np\n",
    "def mat_mul(matrix1,matrix2):\n",
    "    list = []\n",
    "    if (np.size(matrix1, 1)==np.size(matrix2, 0)):\n",
    "        for i in range(np.size(matrix1, 0)):\n",
    "            for j in range(np.size(matrix2, 1)):\n",
    "                list.append((matrix1[i]*matrix2[0:(np.size(array, 0)),j]).sum())\n",
    "        list = (np.copy(list)).reshape((np.size(matrix1, 0)),(np.size(matrix2, 1)))\n",
    "        return list\n",
    "    else:\n",
    "        print(\"inner dimensions does not match\")\n",
    "\n",
    "matrix1 = np.random.randint(10, size=(7, 4))\n",
    "matrix2 = np.random.randint(10, size=(4, 7))\n",
    "#--------------------------\n",
    "print(\"A:\\n\",matrix1,\"\\n\")\n",
    "print(\"B:\\n\",matrix2,\"\\n\")\n",
    "print(\"Произведение матриц A*B:\\n\",mat_mul(matrix1,matrix2))"
   ]
  },
  {
   "cell_type": "code",
   "execution_count": 16,
   "metadata": {},
   "outputs": [
    {
     "name": "stdout",
     "output_type": "stream",
     "text": [
      "[0.43177915 0.233412   0.11303712 0.41686081 0.00767863 0.23474754\n",
      " 0.43167564 0.80916381 0.66357446 0.61406637]\n",
      "Max value: 0.809\n",
      "Min value: 0.008\n",
      "Mean value: 0.396\n",
      "Median value: 0.424\n",
      "\n"
     ]
    }
   ],
   "source": [
    "#11)\n",
    "#----- YOUR CODE HERE -----\n",
    "import numpy as np\n",
    "array = np.random.random(10)\n",
    "max = array.max()\n",
    "min = array.min()\n",
    "mean = array.mean()\n",
    "median = np.median(array)\n",
    "#--------------------------\n",
    "print(array)\n",
    "print(\"Max value: %.3f\\n\\\n",
    "Min value: %.3f\\n\\\n",
    "Mean value: %.3f\\n\\\n",
    "Median value: %.3f\\n\" % (max,min,mean,median))\n"
   ]
  },
  {
   "cell_type": "code",
   "execution_count": 9,
   "metadata": {},
   "outputs": [
    {
     "name": "stdout",
     "output_type": "stream",
     "text": [
      "Разность Евклидового расстояния между своей функцией и библеотечной: 0.0\n",
      "Евклидово расстояние: 10.198039027185569\n"
     ]
    }
   ],
   "source": [
    "#11)\n",
    "#----- YOUR CODE HERE -----\n",
    "import numpy as np\n",
    "def comp_dist(array_one,array_two):\n",
    "    result = np.sqrt(((array_one - array_two)**2).sum())\n",
    "    return result\n",
    "array_one = np.random.randint(10, size=(6))\n",
    "array_two = np.random.randint(10, size=(6))\n",
    "#--------------------------\n",
    "print(\"Разность Евклидового расстояния между своей функцией и библиотечной:\",np.linalg.norm(array_one-array_two) - comp_dist(array_one,array_two))\n",
    "print(\"Евклидово расстояние:\",comp_dist(array_one,array_two))"
   ]
  }
 ],
 "metadata": {
  "interpreter": {
   "hash": "55bb6e04a772768c79b34b1f28b62619661b67fea9f0e4e15ac95b051f3dd81b"
  },
  "kernelspec": {
   "display_name": "Python 3.9.5 64-bit",
   "language": "python",
   "name": "python3"
  },
  "language_info": {
   "codemirror_mode": {
    "name": "ipython",
    "version": 3
   },
   "file_extension": ".py",
   "mimetype": "text/x-python",
   "name": "python",
   "nbconvert_exporter": "python",
   "pygments_lexer": "ipython3",
   "version": "3.9.5"
  },
  "orig_nbformat": 4
 },
 "nbformat": 4,
 "nbformat_minor": 2
}
